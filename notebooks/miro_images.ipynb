{
 "cells": [
  {
   "cell_type": "markdown",
   "metadata": {},
   "source": [
    "# WGAN-GP Training"
   ]
  },
  {
   "cell_type": "code",
   "execution_count": 2,
   "metadata": {},
   "outputs": [],
   "source": [
    "%matplotlib inline\n",
    "\n",
    "import os\n",
    "import matplotlib.pyplot as plt\n",
    "\n",
    "from models.WGANGP import WGANGP\n",
    "\n",
    "import pickle"
   ]
  },
  {
   "cell_type": "code",
   "execution_count": 4,
   "metadata": {},
   "outputs": [],
   "source": [
    "BATCH_SIZE = 64\n"
   ]
  },
  {
   "cell_type": "code",
   "execution_count": 5,
   "metadata": {},
   "outputs": [
    {
     "name": "stdout",
     "output_type": "stream",
     "text": [
      "x_train shape: (937, 64, 64, 3)\n"
     ]
    }
   ],
   "source": [
    "from PIL import Image\n",
    "import numpy as np\n",
    "IMAGE_SIZE = 64\n",
    "\n",
    "source_path = './images/miro/square/'\n",
    "X_data = []\n",
    "\n",
    "\n",
    "for count, filename in enumerate(os.listdir(source_path)):\n",
    "    f = os.path.join(source_path, filename)\n",
    "    image = Image.open(f).convert('RGB').resize((IMAGE_SIZE, IMAGE_SIZE))\n",
    "    X_data.append(np.array(image))\n",
    "\n",
    "x_train = np.array(X_data)\n",
    "print('x_train shape:', x_train.shape)"
   ]
  },
  {
   "cell_type": "code",
   "execution_count": 6,
   "metadata": {},
   "outputs": [
    {
     "data": {
      "text/plain": [
       "<matplotlib.image.AxesImage at 0x7f4234662c70>"
      ]
     },
     "execution_count": 6,
     "metadata": {},
     "output_type": "execute_result"
    },
    {
     "data": {
      "image/png": "[encoded data removed]",
      "text/plain": [
       "<Figure size 640x480 with 1 Axes>"
      ]
     },
     "metadata": {},
     "output_type": "display_data"
    }
   ],
   "source": [
    "plt.imshow(x_train[99,:,:,:])"
   ]
  },
  {
   "cell_type": "markdown",
   "metadata": {},
   "source": [
    "## architecture"
   ]
  },
  {
   "cell_type": "code",
   "execution_count": 7,
   "metadata": {},
   "outputs": [
    {
     "name": "stdout",
     "output_type": "stream",
     "text": [
      "WARNING:tensorflow:From /home/pappa/anaconda3/lib/python3.8/site-packages/tensorflow/python/ops/resource_variable_ops.py:1659: calling BaseResourceVariable.__init__ (from tensorflow.python.ops.resource_variable_ops) with constraint is deprecated and will be removed in a future version.\n",
      "Instructions for updating:\n",
      "If using Keras pass *_constraint arguments to layers.\n"
     ]
    },
    {
     "name": "stderr",
     "output_type": "stream",
     "text": [
      "2023-04-04 18:50:59.570799: I tensorflow/stream_executor/platform/default/dso_loader.cc:44] Successfully opened dynamic library libcuda.so.1\n",
      "2023-04-04 18:50:59.613745: E tensorflow/stream_executor/cuda/cuda_driver.cc:313] failed call to cuInit: CUDA_ERROR_NO_DEVICE: no CUDA-capable device is detected\n",
      "2023-04-04 18:50:59.613761: I tensorflow/stream_executor/cuda/cuda_diagnostics.cc:156] kernel driver does not appear to be running on this host (pappa-GP66-Leopard-11UH): /proc/driver/nvidia/version does not exist\n"
     ]
    },
    {
     "ename": "InvocationException",
     "evalue": "GraphViz's executables not found",
     "output_type": "error",
     "traceback": [
      "\u001b[0;31m---------------------------------------------------------------------------\u001b[0m",
      "\u001b[0;31mInvocationException\u001b[0m                       Traceback (most recent call last)",
      "Input \u001b[0;32mIn [7]\u001b[0m, in \u001b[0;36m<cell line: 24>\u001b[0;34m()\u001b[0m\n\u001b[1;32m      1\u001b[0m gan \u001b[38;5;241m=\u001b[39m WGANGP(input_dim \u001b[38;5;241m=\u001b[39m (IMAGE_SIZE,IMAGE_SIZE,\u001b[38;5;241m3\u001b[39m)\n\u001b[1;32m      2\u001b[0m         , critic_conv_filters \u001b[38;5;241m=\u001b[39m [\u001b[38;5;241m64\u001b[39m,\u001b[38;5;241m128\u001b[39m,\u001b[38;5;241m256\u001b[39m,\u001b[38;5;241m512\u001b[39m]\n\u001b[1;32m      3\u001b[0m         , critic_conv_kernel_size \u001b[38;5;241m=\u001b[39m [\u001b[38;5;241m5\u001b[39m,\u001b[38;5;241m5\u001b[39m,\u001b[38;5;241m5\u001b[39m,\u001b[38;5;241m5\u001b[39m]\n\u001b[0;32m   (...)\u001b[0m\n\u001b[1;32m     21\u001b[0m         , batch_size \u001b[38;5;241m=\u001b[39m BATCH_SIZE\n\u001b[1;32m     22\u001b[0m         )\n\u001b[1;32m     24\u001b[0m \u001b[38;5;28;01mif\u001b[39;00m mode \u001b[38;5;241m==\u001b[39m \u001b[38;5;124m'\u001b[39m\u001b[38;5;124mbuild\u001b[39m\u001b[38;5;124m'\u001b[39m:\n\u001b[0;32m---> 25\u001b[0m     \u001b[43mgan\u001b[49m\u001b[38;5;241;43m.\u001b[39;49m\u001b[43msave\u001b[49m\u001b[43m(\u001b[49m\u001b[43mRUN_FOLDER\u001b[49m\u001b[43m)\u001b[49m\n\u001b[1;32m     27\u001b[0m \u001b[38;5;28;01melse\u001b[39;00m:\n\u001b[1;32m     28\u001b[0m     gan\u001b[38;5;241m.\u001b[39mload_weights(os\u001b[38;5;241m.\u001b[39mpath\u001b[38;5;241m.\u001b[39mjoin(RUN_FOLDER, \u001b[38;5;124m'\u001b[39m\u001b[38;5;124mweights/weights.h5\u001b[39m\u001b[38;5;124m'\u001b[39m))\n",
      "File \u001b[0;32m~/Projects/Pappa/ML/models/WGANGP.py:431\u001b[0m, in \u001b[0;36mWGANGP.save\u001b[0;34m(self, folder)\u001b[0m\n\u001b[1;32m    406\u001b[0m \u001b[38;5;28;01mwith\u001b[39;00m \u001b[38;5;28mopen\u001b[39m(os\u001b[38;5;241m.\u001b[39mpath\u001b[38;5;241m.\u001b[39mjoin(folder, \u001b[38;5;124m'\u001b[39m\u001b[38;5;124mparams.pkl\u001b[39m\u001b[38;5;124m'\u001b[39m), \u001b[38;5;124m'\u001b[39m\u001b[38;5;124mwb\u001b[39m\u001b[38;5;124m'\u001b[39m) \u001b[38;5;28;01mas\u001b[39;00m f:\n\u001b[1;32m    407\u001b[0m     pickle\u001b[38;5;241m.\u001b[39mdump([\n\u001b[1;32m    408\u001b[0m         \u001b[38;5;28mself\u001b[39m\u001b[38;5;241m.\u001b[39minput_dim\n\u001b[1;32m    409\u001b[0m         , \u001b[38;5;28mself\u001b[39m\u001b[38;5;241m.\u001b[39mcritic_conv_filters\n\u001b[0;32m   (...)\u001b[0m\n\u001b[1;32m    428\u001b[0m         , \u001b[38;5;28mself\u001b[39m\u001b[38;5;241m.\u001b[39mbatch_size\n\u001b[1;32m    429\u001b[0m         ], f)\n\u001b[0;32m--> 431\u001b[0m \u001b[38;5;28;43mself\u001b[39;49m\u001b[38;5;241;43m.\u001b[39;49m\u001b[43mplot_model\u001b[49m\u001b[43m(\u001b[49m\u001b[43mfolder\u001b[49m\u001b[43m)\u001b[49m\n",
      "File \u001b[0;32m~/Projects/Pappa/ML/models/WGANGP.py:397\u001b[0m, in \u001b[0;36mWGANGP.plot_model\u001b[0;34m(self, run_folder)\u001b[0m\n\u001b[1;32m    396\u001b[0m \u001b[38;5;28;01mdef\u001b[39;00m \u001b[38;5;21mplot_model\u001b[39m(\u001b[38;5;28mself\u001b[39m, run_folder):\n\u001b[0;32m--> 397\u001b[0m     \u001b[43mplot_model\u001b[49m\u001b[43m(\u001b[49m\u001b[38;5;28;43mself\u001b[39;49m\u001b[38;5;241;43m.\u001b[39;49m\u001b[43mmodel\u001b[49m\u001b[43m,\u001b[49m\u001b[43m \u001b[49m\u001b[43mto_file\u001b[49m\u001b[38;5;241;43m=\u001b[39;49m\u001b[43mos\u001b[49m\u001b[38;5;241;43m.\u001b[39;49m\u001b[43mpath\u001b[49m\u001b[38;5;241;43m.\u001b[39;49m\u001b[43mjoin\u001b[49m\u001b[43m(\u001b[49m\u001b[43mrun_folder\u001b[49m\u001b[43m \u001b[49m\u001b[43m,\u001b[49m\u001b[38;5;124;43m'\u001b[39;49m\u001b[38;5;124;43mviz/model.png\u001b[39;49m\u001b[38;5;124;43m'\u001b[39;49m\u001b[43m)\u001b[49m\u001b[43m,\u001b[49m\u001b[43m \u001b[49m\u001b[43mshow_shapes\u001b[49m\u001b[43m \u001b[49m\u001b[38;5;241;43m=\u001b[39;49m\u001b[43m \u001b[49m\u001b[38;5;28;43;01mTrue\u001b[39;49;00m\u001b[43m,\u001b[49m\u001b[43m \u001b[49m\u001b[43mshow_layer_names\u001b[49m\u001b[43m \u001b[49m\u001b[38;5;241;43m=\u001b[39;49m\u001b[43m \u001b[49m\u001b[38;5;28;43;01mTrue\u001b[39;49;00m\u001b[43m)\u001b[49m\n\u001b[1;32m    398\u001b[0m     plot_model(\u001b[38;5;28mself\u001b[39m\u001b[38;5;241m.\u001b[39mcritic, to_file\u001b[38;5;241m=\u001b[39mos\u001b[38;5;241m.\u001b[39mpath\u001b[38;5;241m.\u001b[39mjoin(run_folder ,\u001b[38;5;124m'\u001b[39m\u001b[38;5;124mviz/critic.png\u001b[39m\u001b[38;5;124m'\u001b[39m), show_shapes \u001b[38;5;241m=\u001b[39m \u001b[38;5;28;01mTrue\u001b[39;00m, show_layer_names \u001b[38;5;241m=\u001b[39m \u001b[38;5;28;01mTrue\u001b[39;00m)\n\u001b[1;32m    399\u001b[0m     plot_model(\u001b[38;5;28mself\u001b[39m\u001b[38;5;241m.\u001b[39mgenerator, to_file\u001b[38;5;241m=\u001b[39mos\u001b[38;5;241m.\u001b[39mpath\u001b[38;5;241m.\u001b[39mjoin(run_folder ,\u001b[38;5;124m'\u001b[39m\u001b[38;5;124mviz/generator.png\u001b[39m\u001b[38;5;124m'\u001b[39m), show_shapes \u001b[38;5;241m=\u001b[39m \u001b[38;5;28;01mTrue\u001b[39;00m, show_layer_names \u001b[38;5;241m=\u001b[39m \u001b[38;5;28;01mTrue\u001b[39;00m)\n",
      "File \u001b[0;32m~/anaconda3/lib/python3.8/site-packages/tensorflow/python/keras/utils/vis_utils.py:278\u001b[0m, in \u001b[0;36mplot_model\u001b[0;34m(model, to_file, show_shapes, show_layer_names, rankdir, expand_nested, dpi)\u001b[0m\n\u001b[1;32m    252\u001b[0m \u001b[38;5;129m@keras_export\u001b[39m(\u001b[38;5;124m'\u001b[39m\u001b[38;5;124mkeras.utils.plot_model\u001b[39m\u001b[38;5;124m'\u001b[39m)\n\u001b[1;32m    253\u001b[0m \u001b[38;5;28;01mdef\u001b[39;00m \u001b[38;5;21mplot_model\u001b[39m(model,\n\u001b[1;32m    254\u001b[0m                to_file\u001b[38;5;241m=\u001b[39m\u001b[38;5;124m'\u001b[39m\u001b[38;5;124mmodel.png\u001b[39m\u001b[38;5;124m'\u001b[39m,\n\u001b[0;32m   (...)\u001b[0m\n\u001b[1;32m    258\u001b[0m                expand_nested\u001b[38;5;241m=\u001b[39m\u001b[38;5;28;01mFalse\u001b[39;00m,\n\u001b[1;32m    259\u001b[0m                dpi\u001b[38;5;241m=\u001b[39m\u001b[38;5;241m96\u001b[39m):\n\u001b[1;32m    260\u001b[0m   \u001b[38;5;124;03m\"\"\"Converts a Keras model to dot format and save to a file.\u001b[39;00m\n\u001b[1;32m    261\u001b[0m \n\u001b[1;32m    262\u001b[0m \u001b[38;5;124;03m  Arguments:\u001b[39;00m\n\u001b[0;32m   (...)\u001b[0m\n\u001b[1;32m    276\u001b[0m \u001b[38;5;124;03m    This enables in-line display of the model plots in notebooks.\u001b[39;00m\n\u001b[1;32m    277\u001b[0m \u001b[38;5;124;03m  \"\"\"\u001b[39;00m\n\u001b[0;32m--> 278\u001b[0m   dot \u001b[38;5;241m=\u001b[39m \u001b[43mmodel_to_dot\u001b[49m\u001b[43m(\u001b[49m\u001b[43mmodel\u001b[49m\u001b[43m,\u001b[49m\n\u001b[1;32m    279\u001b[0m \u001b[43m                     \u001b[49m\u001b[43mshow_shapes\u001b[49m\u001b[38;5;241;43m=\u001b[39;49m\u001b[43mshow_shapes\u001b[49m\u001b[43m,\u001b[49m\n\u001b[1;32m    280\u001b[0m \u001b[43m                     \u001b[49m\u001b[43mshow_layer_names\u001b[49m\u001b[38;5;241;43m=\u001b[39;49m\u001b[43mshow_layer_names\u001b[49m\u001b[43m,\u001b[49m\n\u001b[1;32m    281\u001b[0m \u001b[43m                     \u001b[49m\u001b[43mrankdir\u001b[49m\u001b[38;5;241;43m=\u001b[39;49m\u001b[43mrankdir\u001b[49m\u001b[43m,\u001b[49m\n\u001b[1;32m    282\u001b[0m \u001b[43m                     \u001b[49m\u001b[43mexpand_nested\u001b[49m\u001b[38;5;241;43m=\u001b[39;49m\u001b[43mexpand_nested\u001b[49m\u001b[43m,\u001b[49m\n\u001b[1;32m    283\u001b[0m \u001b[43m                     \u001b[49m\u001b[43mdpi\u001b[49m\u001b[38;5;241;43m=\u001b[39;49m\u001b[43mdpi\u001b[49m\u001b[43m)\u001b[49m\n\u001b[1;32m    284\u001b[0m   \u001b[38;5;28;01mif\u001b[39;00m dot \u001b[38;5;129;01mis\u001b[39;00m \u001b[38;5;28;01mNone\u001b[39;00m:\n\u001b[1;32m    285\u001b[0m     \u001b[38;5;28;01mreturn\u001b[39;00m\n",
      "File \u001b[0;32m~/anaconda3/lib/python3.8/site-packages/tensorflow/python/keras/utils/vis_utils.py:102\u001b[0m, in \u001b[0;36mmodel_to_dot\u001b[0;34m(model, show_shapes, show_layer_names, rankdir, expand_nested, dpi, subgraph)\u001b[0m\n\u001b[1;32m     99\u001b[0m \u001b[38;5;28;01mfrom\u001b[39;00m \u001b[38;5;21;01mtensorflow\u001b[39;00m\u001b[38;5;21;01m.\u001b[39;00m\u001b[38;5;21;01mpython\u001b[39;00m\u001b[38;5;21;01m.\u001b[39;00m\u001b[38;5;21;01mkeras\u001b[39;00m\u001b[38;5;21;01m.\u001b[39;00m\u001b[38;5;21;01mengine\u001b[39;00m \u001b[38;5;28;01mimport\u001b[39;00m sequential\n\u001b[1;32m    100\u001b[0m \u001b[38;5;28;01mfrom\u001b[39;00m \u001b[38;5;21;01mtensorflow\u001b[39;00m\u001b[38;5;21;01m.\u001b[39;00m\u001b[38;5;21;01mpython\u001b[39;00m\u001b[38;5;21;01m.\u001b[39;00m\u001b[38;5;21;01mkeras\u001b[39;00m\u001b[38;5;21;01m.\u001b[39;00m\u001b[38;5;21;01mengine\u001b[39;00m \u001b[38;5;28;01mimport\u001b[39;00m network\n\u001b[0;32m--> 102\u001b[0m \u001b[38;5;28;01mif\u001b[39;00m \u001b[38;5;129;01mnot\u001b[39;00m \u001b[43mcheck_pydot\u001b[49m\u001b[43m(\u001b[49m\u001b[43m)\u001b[49m:\n\u001b[1;32m    103\u001b[0m   \u001b[38;5;28;01mif\u001b[39;00m \u001b[38;5;124m'\u001b[39m\u001b[38;5;124mIPython.core.magics.namespace\u001b[39m\u001b[38;5;124m'\u001b[39m \u001b[38;5;129;01min\u001b[39;00m sys\u001b[38;5;241m.\u001b[39mmodules:\n\u001b[1;32m    104\u001b[0m     \u001b[38;5;66;03m# We don't raise an exception here in order to avoid crashing notebook\u001b[39;00m\n\u001b[1;32m    105\u001b[0m     \u001b[38;5;66;03m# tests where graphviz is not available.\u001b[39;00m\n\u001b[1;32m    106\u001b[0m     \u001b[38;5;28mprint\u001b[39m(\u001b[38;5;124m'\u001b[39m\u001b[38;5;124mFailed to import pydot. You must install pydot\u001b[39m\u001b[38;5;124m'\u001b[39m\n\u001b[1;32m    107\u001b[0m           \u001b[38;5;124m'\u001b[39m\u001b[38;5;124m and graphviz for `pydotprint` to work.\u001b[39m\u001b[38;5;124m'\u001b[39m)\n",
      "File \u001b[0;32m~/anaconda3/lib/python3.8/site-packages/tensorflow/python/keras/utils/vis_utils.py:50\u001b[0m, in \u001b[0;36mcheck_pydot\u001b[0;34m()\u001b[0m\n\u001b[1;32m     46\u001b[0m   \u001b[38;5;28;01mreturn\u001b[39;00m \u001b[38;5;28;01mFalse\u001b[39;00m\n\u001b[1;32m     47\u001b[0m \u001b[38;5;28;01mtry\u001b[39;00m:\n\u001b[1;32m     48\u001b[0m   \u001b[38;5;66;03m# Attempt to create an image of a blank graph\u001b[39;00m\n\u001b[1;32m     49\u001b[0m   \u001b[38;5;66;03m# to check the pydot/graphviz installation.\u001b[39;00m\n\u001b[0;32m---> 50\u001b[0m   \u001b[43mpydot\u001b[49m\u001b[38;5;241;43m.\u001b[39;49m\u001b[43mDot\u001b[49m\u001b[38;5;241;43m.\u001b[39;49m\u001b[43mcreate\u001b[49m\u001b[43m(\u001b[49m\u001b[43mpydot\u001b[49m\u001b[38;5;241;43m.\u001b[39;49m\u001b[43mDot\u001b[49m\u001b[43m(\u001b[49m\u001b[43m)\u001b[49m\u001b[43m)\u001b[49m\n\u001b[1;32m     51\u001b[0m   \u001b[38;5;28;01mreturn\u001b[39;00m \u001b[38;5;28;01mTrue\u001b[39;00m\n\u001b[1;32m     52\u001b[0m \u001b[38;5;28;01mexcept\u001b[39;00m \u001b[38;5;167;01mOSError\u001b[39;00m:\n",
      "File \u001b[0;32m~/anaconda3/lib/python3.8/site-packages/pydotplus/graphviz.py:1959\u001b[0m, in \u001b[0;36mDot.create\u001b[0;34m(self, prog, format)\u001b[0m\n\u001b[1;32m   1957\u001b[0m     \u001b[38;5;28mself\u001b[39m\u001b[38;5;241m.\u001b[39mprogs \u001b[38;5;241m=\u001b[39m find_graphviz()\n\u001b[1;32m   1958\u001b[0m     \u001b[38;5;28;01mif\u001b[39;00m \u001b[38;5;28mself\u001b[39m\u001b[38;5;241m.\u001b[39mprogs \u001b[38;5;129;01mis\u001b[39;00m \u001b[38;5;28;01mNone\u001b[39;00m:\n\u001b[0;32m-> 1959\u001b[0m         \u001b[38;5;28;01mraise\u001b[39;00m InvocationException(\n\u001b[1;32m   1960\u001b[0m             \u001b[38;5;124m'\u001b[39m\u001b[38;5;124mGraphViz\u001b[39m\u001b[38;5;130;01m\\'\u001b[39;00m\u001b[38;5;124ms executables not found\u001b[39m\u001b[38;5;124m'\u001b[39m)\n\u001b[1;32m   1962\u001b[0m \u001b[38;5;28;01mif\u001b[39;00m prog \u001b[38;5;129;01mnot\u001b[39;00m \u001b[38;5;129;01min\u001b[39;00m \u001b[38;5;28mself\u001b[39m\u001b[38;5;241m.\u001b[39mprogs:\n\u001b[1;32m   1963\u001b[0m     \u001b[38;5;28;01mraise\u001b[39;00m InvocationException(\n\u001b[1;32m   1964\u001b[0m         \u001b[38;5;124m'\u001b[39m\u001b[38;5;124mGraphViz\u001b[39m\u001b[38;5;130;01m\\'\u001b[39;00m\u001b[38;5;124ms executable \u001b[39m\u001b[38;5;124m\"\u001b[39m\u001b[38;5;132;01m%s\u001b[39;00m\u001b[38;5;124m\"\u001b[39m\u001b[38;5;124m not found\u001b[39m\u001b[38;5;124m'\u001b[39m \u001b[38;5;241m%\u001b[39m prog)\n",
      "\u001b[0;31mInvocationException\u001b[0m: GraphViz's executables not found"
     ]
    }
   ],
   "source": [
    "gan = WGANGP(input_dim = (IMAGE_SIZE,IMAGE_SIZE,3)\n",
    "        , critic_conv_filters = [64,128,256,512]\n",
    "        , critic_conv_kernel_size = [5,5,5,5]\n",
    "        , critic_conv_strides = [2,2,2,2]\n",
    "        , critic_batch_norm_momentum = None\n",
    "        , critic_activation = 'leaky_relu'\n",
    "        , critic_dropout_rate = None\n",
    "        , critic_learning_rate = 0.0002\n",
    "        , generator_initial_dense_layer_size = (4, 4, 512)\n",
    "        , generator_upsample = [1,1,1,1]\n",
    "        , generator_conv_filters = [256,128,64,3]\n",
    "        , generator_conv_kernel_size = [5,5,5,5]\n",
    "        , generator_conv_strides = [2,2,2,2]\n",
    "        , generator_batch_norm_momentum = 0.9\n",
    "        , generator_activation = 'leaky_relu'\n",
    "        , generator_dropout_rate = None\n",
    "        , generator_learning_rate = 0.0002\n",
    "        , optimiser = 'adam'\n",
    "        , grad_weight = 10\n",
    "        , z_dim = 100\n",
    "        , batch_size = BATCH_SIZE\n",
    "        )\n",
    "\n",
    "if mode == 'build':\n",
    "    gan.save(RUN_FOLDER)\n",
    "\n",
    "else:\n",
    "    gan.load_weights(os.path.join(RUN_FOLDER, 'weights/weights.h5'))\n"
   ]
  },
  {
   "cell_type": "code",
   "execution_count": 8,
   "metadata": {},
   "outputs": [
    {
     "name": "stdout",
     "output_type": "stream",
     "text": [
      "Model: \"model\"\n",
      "_________________________________________________________________\n",
      "Layer (type)                 Output Shape              Param #   \n",
      "=================================================================\n",
      "critic_input (InputLayer)    [(None, 64, 64, 3)]       0         \n",
      "_________________________________________________________________\n",
      "critic_conv_0 (Conv2D)       multiple                  4864      \n",
      "_________________________________________________________________\n",
      "leaky_re_lu (LeakyReLU)      multiple                  0         \n",
      "_________________________________________________________________\n",
      "critic_conv_1 (Conv2D)       multiple                  204928    \n",
      "_________________________________________________________________\n",
      "leaky_re_lu_1 (LeakyReLU)    multiple                  0         \n",
      "_________________________________________________________________\n",
      "critic_conv_2 (Conv2D)       multiple                  819456    \n",
      "_________________________________________________________________\n",
      "leaky_re_lu_2 (LeakyReLU)    multiple                  0         \n",
      "_________________________________________________________________\n",
      "critic_conv_3 (Conv2D)       multiple                  3277312   \n",
      "_________________________________________________________________\n",
      "leaky_re_lu_3 (LeakyReLU)    multiple                  0         \n",
      "_________________________________________________________________\n",
      "flatten (Flatten)            multiple                  0         \n",
      "_________________________________________________________________\n",
      "dense (Dense)                multiple                  8193      \n",
      "=================================================================\n",
      "Total params: 4,314,753\n",
      "Trainable params: 4,314,753\n",
      "Non-trainable params: 0\n",
      "_________________________________________________________________\n"
     ]
    }
   ],
   "source": [
    "gan.critic.summary()"
   ]
  },
  {
   "cell_type": "code",
   "execution_count": 9,
   "metadata": {},
   "outputs": [
    {
     "name": "stdout",
     "output_type": "stream",
     "text": [
      "Model: \"model_1\"\n",
      "_________________________________________________________________\n",
      "Layer (type)                 Output Shape              Param #   \n",
      "=================================================================\n",
      "generator_input (InputLayer) [(None, 100)]             0         \n",
      "_________________________________________________________________\n",
      "dense_1 (Dense)              (None, 8192)              827392    \n",
      "_________________________________________________________________\n",
      "batch_normalization (BatchNo (None, 8192)              32768     \n",
      "_________________________________________________________________\n",
      "leaky_re_lu_4 (LeakyReLU)    (None, 8192)              0         \n",
      "_________________________________________________________________\n",
      "reshape (Reshape)            (None, 4, 4, 512)         0         \n",
      "_________________________________________________________________\n",
      "generator_conv_0 (Conv2DTran (None, 8, 8, 256)         3277056   \n",
      "_________________________________________________________________\n",
      "batch_normalization_1 (Batch (None, 8, 8, 256)         1024      \n",
      "_________________________________________________________________\n",
      "leaky_re_lu_5 (LeakyReLU)    (None, 8, 8, 256)         0         \n",
      "_________________________________________________________________\n",
      "generator_conv_1 (Conv2DTran (None, 16, 16, 128)       819328    \n",
      "_________________________________________________________________\n",
      "batch_normalization_2 (Batch (None, 16, 16, 128)       512       \n",
      "_________________________________________________________________\n",
      "leaky_re_lu_6 (LeakyReLU)    (None, 16, 16, 128)       0         \n",
      "_________________________________________________________________\n",
      "generator_conv_2 (Conv2DTran (None, 32, 32, 64)        204864    \n",
      "_________________________________________________________________\n",
      "batch_normalization_3 (Batch (None, 32, 32, 64)        256       \n",
      "_________________________________________________________________\n",
      "leaky_re_lu_7 (LeakyReLU)    (None, 32, 32, 64)        0         \n",
      "_________________________________________________________________\n",
      "generator_conv_3 (Conv2DTran (None, 64, 64, 3)         4803      \n",
      "_________________________________________________________________\n",
      "activation (Activation)      (None, 64, 64, 3)         0         \n",
      "=================================================================\n",
      "Total params: 5,168,003\n",
      "Trainable params: 5,150,723\n",
      "Non-trainable params: 17,280\n",
      "_________________________________________________________________\n"
     ]
    }
   ],
   "source": [
    "gan.generator.summary()"
   ]
  },
  {
   "cell_type": "markdown",
   "metadata": {},
   "source": [
    "## training"
   ]
  },
  {
   "cell_type": "code",
   "execution_count": 10,
   "metadata": {},
   "outputs": [],
   "source": [
    "EPOCHS = 6000\n",
    "PRINT_EVERY_N_BATCHES = 5\n",
    "N_CRITIC = 5\n",
    "BATCH_SIZE = 64"
   ]
  },
  {
   "cell_type": "code",
   "execution_count": 12,
   "metadata": {},
   "outputs": [
    {
     "name": "stdout",
     "output_type": "stream",
     "text": [
      "WARNING:tensorflow:Discrepancy between trainable weights and collected trainable weights, did you set `model.trainable` without calling `model.compile` after ?\n"
     ]
    },
    {
     "name": "stderr",
     "output_type": "stream",
     "text": [
      "2023-04-04 18:25:36.687622: I tensorflow/core/platform/cpu_feature_guard.cc:143] Your CPU supports instructions that this TensorFlow binary was not compiled to use: AVX2 AVX512F FMA\n",
      "2023-04-04 18:25:36.713400: I tensorflow/core/platform/profile_utils/cpu_utils.cc:102] CPU Frequency: 2304000000 Hz\n",
      "2023-04-04 18:25:36.715109: I tensorflow/compiler/xla/service/service.cc:168] XLA service 0x7f0560000b60 initialized for platform Host (this does not guarantee that XLA will be used). Devices:\n",
      "2023-04-04 18:25:36.715131: I tensorflow/compiler/xla/service/service.cc:176]   StreamExecutor device (0): Host, Default Version\n"
     ]
    },
    {
     "name": "stdout",
     "output_type": "stream",
     "text": [
      "WARNING:tensorflow:Discrepancy between trainable weights and collected trainable weights, did you set `model.trainable` without calling `model.compile` after ?\n",
      "0 (5, 1) [D loss: (-3005.3)(R -3010.1, F 0.1, G 0.5)] [G loss: -5.3]\n",
      "1 (5, 1) [D loss: (-94198.5)(R -94645.6, F 7.7, G 43.9)] [G loss: -154.1]\n",
      "2 (5, 1) [D loss: (-1032262.3)(R -1109163.0, F 145.1, G 7675.6)] [G loss: -1956.8]\n",
      "3 (5, 1) [D loss: (-4480504.0)(R -6905923.0, F 1184.2, G 242423.5)] [G loss: -11580.5]\n",
      "4 (5, 1) [D loss: (-5835164.0)(R -11170321.0, F 2416.0, G 533274.1)] [G loss: -16224.0]\n",
      "5 (5, 1) [D loss: (-5897997.5)(R -11079802.0, F 3152.2, G 517865.2)] [G loss: -18491.1]\n",
      "6 (5, 1) [D loss: (-6355065.5)(R -13081374.0, F 3808.3, G 672250.1)] [G loss: -23010.1]\n",
      "7 (5, 1) [D loss: (-5340490.0)(R -11885897.0, F 3608.2, G 654179.9)] [G loss: -24064.4]\n",
      "8 (5, 1) [D loss: (-6695385.0)(R -13533614.0, F 3670.5, G 683455.9)] [G loss: -28971.8]\n",
      "9 (5, 1) [D loss: (-6876386.0)(R -14264280.0, F 4312.1, G 738358.2)] [G loss: -32562.0]\n",
      "10 (5, 1) [D loss: (-6853359.0)(R -13167177.0, F 5277.9, G 630854.0)] [G loss: -35476.1]\n",
      "11 (5, 1) [D loss: (-6339368.0)(R -13721932.0, F 8104.1, G 737446.0)] [G loss: -36547.6]\n",
      "12 (5, 1) [D loss: (-6426926.0)(R -14431412.0, F 11930.8, G 799255.5)] [G loss: -40369.8]\n",
      "13 (5, 1) [D loss: (-7961370.0)(R -14581446.0, F 14846.4, G 660523.0)] [G loss: -45139.6]\n",
      "14 (5, 1) [D loss: (-7615300.0)(R -14186218.0, F 19473.7, G 655144.4)] [G loss: -48293.4]\n",
      "15 (5, 1) [D loss: (-6143721.0)(R -13502314.0, F 25698.3, G 733289.5)] [G loss: -46950.8]\n",
      "16 (5, 1) [D loss: (-6138051.5)(R -12770904.0, F 28477.2, G 660437.6)] [G loss: -48272.3]\n",
      "17 (5, 1) [D loss: (-6569535.0)(R -13314354.0, F 33182.0, G 671163.7)] [G loss: -49015.4]\n",
      "18 (5, 1) [D loss: (-6846053.0)(R -13834229.0, F 37435.2, G 695074.1)] [G loss: -52625.4]\n",
      "19 (5, 1) [D loss: (-6889589.0)(R -14155238.0, F 42028.7, G 722362.0)] [G loss: -54004.5]\n",
      "20 (5, 1) [D loss: (-7384761.5)(R -14101903.0, F 44277.1, G 667286.4)] [G loss: -58047.2]\n",
      "21 (5, 1) [D loss: (-7318469.5)(R -14852811.0, F 50263.9, G 748407.8)] [G loss: -59744.0]\n",
      "22 (5, 1) [D loss: (-6373350.5)(R -14316162.0, F 54759.5, G 788805.2)] [G loss: -56772.3]\n",
      "23 (5, 1) [D loss: (-6474281.0)(R -14882735.0, F 58697.9, G 834975.6)] [G loss: -60581.1]\n",
      "24 (5, 1) [D loss: (-7619494.5)(R -14564759.0, F 55561.7, G 688970.2)] [G loss: -63600.8]\n",
      "25 (5, 1) [D loss: (-7850943.0)(R -14515853.0, F 56809.1, G 660810.1)] [G loss: -64254.7]\n",
      "26 (5, 1) [D loss: (-7830733.5)(R -14821240.0, F 60008.9, G 693049.8)] [G loss: -70410.5]\n",
      "27 (5, 1) [D loss: (-7647498.5)(R -13602572.0, F 57043.9, G 589802.9)] [G loss: -67851.3]\n",
      "28 (5, 1) [D loss: (-8162078.0)(R -16244242.0, F 68143.5, G 801402.0)] [G loss: -72291.7]\n",
      "29 (5, 1) [D loss: (-8005360.0)(R -15666682.0, F 68091.4, G 759323.1)] [G loss: -72928.6]\n",
      "30 (5, 1) [D loss: (-8053717.0)(R -15811696.0, F 69877.0, G 768810.2)] [G loss: -74162.1]\n",
      "31 (5, 1) [D loss: (-6363129.0)(R -13023329.0, F 65364.3, G 659483.6)] [G loss: -67556.2]\n",
      "32 (5, 1) [D loss: (-8475382.0)(R -15608770.0, F 68794.8, G 706459.3)] [G loss: -76796.4]\n",
      "33 (5, 1) [D loss: (-6648904.0)(R -14036793.0, F 71526.3, G 731636.3)] [G loss: -72377.5]\n",
      "34 (5, 1) [D loss: (-7718230.0)(R -15228410.0, F 73065.9, G 743711.4)] [G loss: -76632.9]\n",
      "35 (5, 1) [D loss: (-6973405.5)(R -15295824.0, F 77726.5, G 824469.2)] [G loss: -74786.9]\n",
      "36 (5, 1) [D loss: (-8179636.5)(R -15416476.0, F 72866.9, G 716397.2)] [G loss: -76033.2]\n",
      "37 (5, 1) [D loss: (-8295948.0)(R -16075966.0, F 76407.9, G 770361.0)] [G loss: -78548.8]\n",
      "38 (5, 1) [D loss: (-7695136.0)(R -15598464.0, F 78195.1, G 782513.3)] [G loss: -79701.4]\n",
      "39 (5, 1) [D loss: (-7791597.0)(R -15377817.0, F 77135.3, G 750908.5)] [G loss: -79885.3]\n",
      "40 (5, 1) [D loss: (-8335694.0)(R -15716040.0, F 76366.2, G 730398.0)] [G loss: -80835.4]\n",
      "41 (5, 1) [D loss: (-8819086.0)(R -15757646.0, F 74522.9, G 686403.8)] [G loss: -87865.8]\n",
      "42 (5, 1) [D loss: (-7485975.0)(R -15111220.0, F 79266.2, G 754597.9)] [G loss: -79439.4]\n",
      "43 (5, 1) [D loss: (-8056687.5)(R -15869630.0, F 80085.2, G 773285.8)] [G loss: -84221.0]\n",
      "44 (5, 1) [D loss: (-7607493.0)(R -14420928.0, F 75144.0, G 673829.1)] [G loss: -79860.3]\n",
      "45 (5, 1) [D loss: (-7762554.0)(R -14666050.0, F 76247.4, G 682724.9)] [G loss: -78640.1]\n",
      "46 (5, 1) [D loss: (-8113674.0)(R -15359632.0, F 78199.6, G 716775.8)] [G loss: -82317.2]\n",
      "47 (5, 1) [D loss: (-7762159.0)(R -16292961.0, F 85709.4, G 844509.3)] [G loss: -82940.1]\n",
      "48 (5, 1) [D loss: (-8998426.0)(R -17225356.0, F 84632.1, G 814229.8)] [G loss: -93436.8]\n",
      "49 (5, 1) [D loss: (-7302331.0)(R -14531888.0, F 79818.1, G 714973.9)] [G loss: -82232.4]\n",
      "50 (5, 1) [D loss: (-8162983.0)(R -16009454.0, F 82996.0, G 776347.5)] [G loss: -85357.3]\n",
      "51 (5, 1) [D loss: (-8500212.0)(R -15743465.0, F 80017.3, G 716323.6)] [G loss: -87900.7]\n",
      "52 (5, 1) [D loss: (-8085315.5)(R -15494124.0, F 81471.1, G 732733.8)] [G loss: -88689.5]\n",
      "53 (5, 1) [D loss: (-7994801.0)(R -15842416.0, F 84343.5, G 776327.2)] [G loss: -87176.1]\n",
      "54 (5, 1) [D loss: (-7715116.0)(R -14701734.0, F 79368.6, G 690724.9)] [G loss: -83411.0]\n",
      "55 (5, 1) [D loss: (-7201627.0)(R -14591141.0, F 82059.9, G 730745.4)] [G loss: -82523.9]\n",
      "56 (5, 1) [D loss: (-8288035.0)(R -15940802.0, F 83702.2, G 756906.5)] [G loss: -87208.0]\n",
      "57 (5, 1) [D loss: (-7447463.0)(R -15388567.0, F 85674.0, G 785543.0)] [G loss: -82868.4]\n",
      "58 (5, 1) [D loss: (-7734968.0)(R -16024842.0, F 87748.6, G 820212.5)] [G loss: -89124.8]\n",
      "59 (5, 1) [D loss: (-8649353.0)(R -16452876.0, F 85618.0, G 771790.5)] [G loss: -90904.7]\n",
      "60 (5, 1) [D loss: (-7402314.5)(R -14993956.0, F 84496.3, G 750714.6)] [G loss: -85449.8]\n",
      "61 (5, 1) [D loss: (-7926475.0)(R -16090827.0, F 87852.4, G 807650.0)] [G loss: -90316.8]\n",
      "62 (5, 1) [D loss: (-8054329.5)(R -15961506.0, F 86549.5, G 782062.8)] [G loss: -89663.0]\n",
      "63 (5, 1) [D loss: (-8109208.0)(R -15905973.0, F 86180.6, G 771058.4)] [G loss: -90089.6]\n",
      "64 (5, 1) [D loss: (-7978378.0)(R -15752573.0, F 86105.8, G 768808.9)] [G loss: -89134.4]\n",
      "65 (5, 1) [D loss: (-7416804.0)(R -16228906.0, F 92065.6, G 872003.6)] [G loss: -81807.3]\n",
      "66 (5, 1) [D loss: (-8664986.0)(R -16764640.0, F 88107.2, G 801154.8)] [G loss: -92379.0]\n",
      "67 (5, 1) [D loss: (-7746209.0)(R -16306282.0, F 91006.5, G 846906.6)] [G loss: -86368.9]\n",
      "68 (5, 1) [D loss: (-7963666.0)(R -15398517.0, F 84646.4, G 735020.5)] [G loss: -85580.5]\n",
      "69 (5, 1) [D loss: (-7593585.0)(R -16088090.0, F 90559.7, G 840394.5)] [G loss: -89127.3]\n",
      "70 (5, 1) [D loss: (-8362421.5)(R -16064294.0, F 86333.1, G 761553.9)] [G loss: -92806.0]\n",
      "71 (5, 1) [D loss: (-7939984.0)(R -15281328.0, F 84400.5, G 725694.4)] [G loss: -91202.8]\n",
      "72 (5, 1) [D loss: (-6820431.5)(R -14185677.0, F 84553.3, G 728069.2)] [G loss: -82050.8]\n",
      "73 (5, 1) [D loss: (-6428109.0)(R -15290168.0, F 92654.5, G 876940.4)] [G loss: -79149.4]\n",
      "74 (5, 1) [D loss: (-7695299.0)(R -15277066.0, F 85840.3, G 749592.7)] [G loss: -87778.3]\n",
      "75 (5, 1) [D loss: (-7580570.0)(R -15607388.0, F 88708.2, G 793811.0)] [G loss: -87384.2]\n",
      "76 (5, 1) [D loss: (-8218292.0)(R -16313824.0, F 89119.3, G 800641.3)] [G loss: -87857.0]\n",
      "77 (5, 1) [D loss: (-8027037.0)(R -16086478.0, F 88566.4, G 797087.5)] [G loss: -88699.0]\n",
      "78 (5, 1) [D loss: (-8974422.0)(R -17888800.0, F 93458.9, G 882092.0)] [G loss: -96894.8]\n",
      "79 (5, 1) [D loss: (-7182174.0)(R -14531024.0, F 84821.4, G 726402.9)] [G loss: -88132.6]\n",
      "80 (5, 1) [D loss: (-8092826.0)(R -14683814.0, F 79738.8, G 651124.9)] [G loss: -86791.1]\n",
      "81 (5, 1) [D loss: (-7788367.0)(R -15555110.0, F 86996.7, G 767974.6)] [G loss: -86987.0]\n",
      "82 (5, 1) [D loss: (-7610343.0)(R -14277278.0, F 80319.6, G 658661.5)] [G loss: -84532.7]\n",
      "83 (5, 1) [D loss: (-8541114.0)(R -16182942.0, F 86523.5, G 755530.5)] [G loss: -95616.5]\n",
      "84 (5, 1) [D loss: (-7180179.5)(R -15257838.0, F 89262.8, G 798839.6)] [G loss: -84241.2]\n",
      "85 (5, 1) [D loss: (-8223366.5)(R -16581531.0, F 90573.6, G 826759.1)] [G loss: -94606.3]\n",
      "86 (5, 1) [D loss: (-7701878.0)(R -15153748.0, F 85276.4, G 736659.4)] [G loss: -86364.4]\n",
      "87 (5, 1) [D loss: (-7077903.0)(R -14736566.0, F 86519.8, G 757214.3)] [G loss: -86018.1]\n",
      "88 (5, 1) [D loss: (-7764985.5)(R -15873571.0, F 89001.5, G 801958.4)] [G loss: -89492.7]\n",
      "89 (5, 1) [D loss: (-8947068.0)(R -16417254.0, F 85290.8, G 738489.5)] [G loss: -97760.0]\n",
      "90 (5, 1) [D loss: (-8256822.0)(R -16477965.0, F 89827.8, G 813131.5)] [G loss: -92793.5]\n",
      "91 (5, 1) [D loss: (-8815490.0)(R -17022814.0, F 89510.2, G 811781.4)] [G loss: -97706.0]\n",
      "92 (5, 1) [D loss: (-8350543.0)(R -16150602.0, F 87176.2, G 771288.3)] [G loss: -89486.8]\n",
      "93 (5, 1) [D loss: (-8099345.0)(R -16862084.0, F 92659.4, G 867008.0)] [G loss: -92510.9]\n",
      "94 (5, 1) [D loss: (-7423708.0)(R -14539720.0, F 82979.1, G 703303.3)] [G loss: -86164.4]\n",
      "95 (5, 1) [D loss: (-8262844.0)(R -16184898.0, F 87774.8, G 783427.9)] [G loss: -92106.3]\n",
      "96 (5, 1) [D loss: (-7707737.0)(R -15929827.0, F 89331.5, G 813275.9)] [G loss: -87876.2]\n",
      "97 (5, 1) [D loss: (-8201479.5)(R -16099072.0, F 87466.7, G 781012.6)] [G loss: -91047.3]\n",
      "98 (5, 1) [D loss: (-7933591.0)(R -16492868.0, F 91116.1, G 846816.1)] [G loss: -89156.7]\n",
      "99 (5, 1) [D loss: (-8016258.0)(R -16877416.0, F 92873.1, G 876828.4)] [G loss: -86674.3]\n",
      "100 (5, 1) [D loss: (-7291381.0)(R -15127084.0, F 86777.6, G 774892.5)] [G loss: -81165.3]\n",
      "101 (5, 1) [D loss: (-8283149.0)(R -14234604.0, F 74870.5, G 587658.4)] [G loss: -84825.2]\n",
      "102 (5, 1) [D loss: (-8114591.0)(R -15884919.0, F 86161.7, G 768416.6)] [G loss: -88707.2]\n",
      "103 (5, 1) [D loss: (-7808347.5)(R -15199875.0, F 83916.8, G 730761.1)] [G loss: -87585.7]\n",
      "104 (5, 1) [D loss: (-8152425.0)(R -16190224.0, F 87483.4, G 795031.6)] [G loss: -87944.0]\n",
      "105 (5, 1) [D loss: (-7687205.5)(R -15175729.0, F 84220.7, G 740430.2)] [G loss: -84668.6]\n",
      "106 (5, 1) [D loss: (-7850480.0)(R -16733179.0, F 92287.3, G 879041.2)] [G loss: -87179.5]\n",
      "107 (5, 1) [D loss: (-8743770.0)(R -16843958.0, F 87456.0, G 801273.2)] [G loss: -91223.9]\n",
      "108 (5, 1) [D loss: (-8290687.0)(R -16675389.0, F 89035.0, G 829566.7)] [G loss: -92051.9]\n",
      "109 (5, 1) [D loss: (-7739126.5)(R -15862416.0, F 87527.4, G 803576.2)] [G loss: -85035.4]\n",
      "110 (5, 1) [D loss: (-8051059.0)(R -16424052.0, F 88880.8, G 828411.2)] [G loss: -88864.1]\n",
      "111 (5, 1) [D loss: (-7164992.0)(R -16729372.0, F 95251.3, G 946912.9)] [G loss: -83537.6]\n",
      "112 (5, 1) [D loss: (-8425328.0)(R -15734382.0, F 82264.1, G 722679.0)] [G loss: -87804.7]\n",
      "113 (5, 1) [D loss: (-8157072.0)(R -16715166.0, F 89498.3, G 846859.6)] [G loss: -87304.6]\n",
      "114 (5, 1) [D loss: (-8005689.0)(R -15491550.0, F 83390.9, G 740247.0)] [G loss: -85267.1]\n",
      "115 (5, 1) [D loss: (-7568410.0)(R -14827206.0, F 81939.1, G 717685.7)] [G loss: -84403.0]\n",
      "116 (5, 1) [D loss: (-7466232.5)(R -15374346.0, F 85590.6, G 782252.2)] [G loss: -83622.0]\n",
      "117 (5, 1) [D loss: (-7912420.0)(R -16506311.0, F 89068.5, G 850482.2)] [G loss: -85476.9]\n",
      "118 (5, 1) [D loss: (-8157483.0)(R -17639708.0, F 93935.3, G 938828.9)] [G loss: -86502.9]\n",
      "119 (5, 1) [D loss: (-7909438.0)(R -17044672.0, F 92047.6, G 904318.6)] [G loss: -89510.1]\n",
      "120 (5, 1) [D loss: (-8183650.5)(R -15764662.0, F 83159.3, G 749785.2)] [G loss: -88219.0]\n",
      "121 (5, 1) [D loss: (-8662295.0)(R -17535664.0, F 90180.1, G 878318.9)] [G loss: -90631.2]\n",
      "122 (5, 1) [D loss: (-7501461.0)(R -15669995.0, F 86244.0, G 808229.0)] [G loss: -83558.0]\n",
      "123 (5, 1) [D loss: (-7834787.5)(R -15748366.0, F 84486.3, G 782909.2)] [G loss: -82383.5]\n",
      "124 (5, 1) [D loss: (-7963289.5)(R -15682802.0, F 83344.8, G 763616.8)] [G loss: -84050.7]\n",
      "125 (5, 1) [D loss: (-7323450.0)(R -14559482.0, F 80307.4, G 715572.5)] [G loss: -80434.8]\n",
      "126 (5, 1) [D loss: (-7717721.0)(R -16861836.0, F 91036.1, G 905307.9)] [G loss: -85081.3]\n",
      "127 (5, 1) [D loss: (-8156076.0)(R -17633718.0, F 92568.9, G 938507.4)] [G loss: -83255.9]\n",
      "128 (5, 1) [D loss: (-7718374.0)(R -16238276.0, F 87386.3, G 843251.6)] [G loss: -81864.6]\n",
      "129 (5, 1) [D loss: (-8599278.0)(R -17666470.0, F 90200.3, G 897699.2)] [G loss: -89972.9]\n",
      "130 (5, 1) [D loss: (-7570226.0)(R -16488210.0, F 89181.8, G 882880.2)] [G loss: -81724.7]\n",
      "131 (5, 1) [D loss: (-7743697.0)(R -14217972.0, F 75079.0, G 639919.6)] [G loss: -80349.8]\n",
      "132 (5, 1) [D loss: (-8537899.0)(R -16041332.0, F 80987.9, G 742244.5)] [G loss: -90083.9]\n",
      "133 (5, 1) [D loss: (-8982020.0)(R -17117756.0, F 84670.8, G 805106.6)] [G loss: -93246.5]\n",
      "134 (5, 1) [D loss: (-8037521.0)(R -16525966.0, F 86415.0, G 840203.0)] [G loss: -86542.0]\n",
      "135 (5, 1) [D loss: (-7885498.5)(R -15122460.0, F 79346.5, G 715761.6)] [G loss: -82926.9]\n",
      "136 (5, 1) [D loss: (-8369947.5)(R -15793280.0, F 80019.5, G 734331.2)] [G loss: -87158.7]\n",
      "137 (5, 1) [D loss: (-7954980.0)(R -14882984.0, F 77058.7, G 685094.5)] [G loss: -85321.0]\n",
      "138 (5, 1) [D loss: (-8098760.0)(R -16630406.0, F 86180.0, G 844546.6)] [G loss: -84438.7]\n",
      "139 (5, 1) [D loss: (-8677140.0)(R -17665010.0, F 88280.4, G 889959.0)] [G loss: -88585.7]\n",
      "140 (5, 1) [D loss: (-7850913.5)(R -15326101.0, F 79987.2, G 739520.1)] [G loss: -83802.3]\n",
      "141 (5, 1) [D loss: (-7393671.0)(R -15263052.0, F 81852.8, G 778752.8)] [G loss: -79993.1]\n",
      "142 (5, 1) [D loss: (-7598788.5)(R -14522882.0, F 76645.6, G 684744.8)] [G loss: -81554.6]\n",
      "143 (5, 1) [D loss: (-6930955.0)(R -14580052.0, F 80626.3, G 756847.1)] [G loss: -75997.6]\n",
      "144 (5, 1) [D loss: (-8164398.5)(R -15123779.0, F 76295.2, G 688308.6)] [G loss: -83187.0]\n",
      "145 (5, 1) [D loss: (-8531129.0)(R -16205028.0, F 80393.5, G 759350.6)] [G loss: -89011.5]\n",
      "146 (5, 1) [D loss: (-7340853.0)(R -16231743.0, F 87168.6, G 880372.1)] [G loss: -81353.8]\n",
      "147 (5, 1) [D loss: (-8530140.0)(R -16188350.0, F 80075.6, G 757813.4)] [G loss: -88592.5]\n",
      "148 (5, 1) [D loss: (-8992754.0)(R -17452306.0, F 84393.9, G 837515.8)] [G loss: -86705.3]\n",
      "149 (5, 1) [D loss: (-7685663.0)(R -16346925.0, F 85439.4, G 857582.3)] [G loss: -80753.8]\n",
      "150 (5, 1) [D loss: (-8087370.0)(R -16304065.0, F 82629.4, G 813406.6)] [G loss: -80014.9]\n",
      "151 (5, 1) [D loss: (-8712748.0)(R -16099599.0, F 77897.0, G 730895.4)] [G loss: -84284.3]\n",
      "152 (5, 1) [D loss: (-8392536.0)(R -16630140.0, F 82555.0, G 815504.9)] [G loss: -84539.7]\n",
      "153 (5, 1) [D loss: (-8698033.0)(R -15931256.0, F 77117.1, G 715610.6)] [G loss: -87652.5]\n",
      "154 (5, 1) [D loss: (-7999212.0)(R -16034424.0, F 81338.5, G 795387.4)] [G loss: -84544.4]\n",
      "155 (5, 1) [D loss: (-7933435.5)(R -15738074.0, F 79845.7, G 772479.2)] [G loss: -77176.2]\n",
      "156 (5, 1) [D loss: (-7657671.0)(R -16371620.0, F 84694.6, G 862925.4)] [G loss: -76134.4]\n",
      "157 (5, 1) [D loss: (-7977085.0)(R -16584106.0, F 83716.6, G 852330.4)] [G loss: -80099.7]\n",
      "158 (5, 1) [D loss: (-8139004.0)(R -15750962.0, F 78253.7, G 753370.4)] [G loss: -78486.2]\n",
      "159 (5, 1) [D loss: (-8815222.0)(R -16629866.0, F 79267.1, G 773537.8)] [G loss: -86552.1]\n",
      "160 (5, 1) [D loss: (-8532767.0)(R -16464426.0, F 79848.7, G 785181.0)] [G loss: -86188.8]\n",
      "161 (5, 1) [D loss: (-7993110.5)(R -15149822.0, F 75443.6, G 708126.8)] [G loss: -78780.5]\n",
      "162 (5, 1) [D loss: (-7727543.0)(R -14908532.0, F 75455.1, G 710553.4)] [G loss: -74371.2]\n",
      "163 (5, 1) [D loss: (-7940065.5)(R -15659295.0, F 78159.7, G 764106.9)] [G loss: -79748.2]\n",
      "164 (5, 1) [D loss: (-8188634.0)(R -15811924.0, F 77589.0, G 754570.1)] [G loss: -79411.1]\n",
      "165 (5, 1) [D loss: (-7966862.0)(R -15841754.0, F 78685.8, G 779620.6)] [G loss: -80610.2]\n",
      "166 (5, 1) [D loss: (-7455237.0)(R -14274472.0, F 72864.6, G 674637.0)] [G loss: -78538.2]\n",
      "167 (5, 1) [D loss: (-7857862.0)(R -15225942.0, F 75735.1, G 729234.5)] [G loss: -76153.2]\n",
      "168 (5, 1) [D loss: (-7940303.0)(R -14803020.0, F 72810.2, G 678990.7)] [G loss: -78298.1]\n",
      "169 (5, 1) [D loss: (-8869662.0)(R -16439458.0, F 76602.9, G 749319.3)] [G loss: -84902.6]\n",
      "170 (5, 1) [D loss: (-8294774.0)(R -17476380.0, F 84867.6, G 909673.8)] [G loss: -80898.7]\n",
      "171 (5, 1) [D loss: (-8410896.0)(R -18277572.0, F 88018.3, G 977865.8)] [G loss: -78683.4]\n",
      "172 (5, 1) [D loss: (-8205526.5)(R -16562894.0, F 80550.0, G 827681.8)] [G loss: -79169.0]\n",
      "173 (5, 1) [D loss: (-7698728.0)(R -15979600.0, F 80259.0, G 820061.3)] [G loss: -75468.6]\n",
      "174 (5, 1) [D loss: (-7997846.5)(R -14514328.0, F 70144.1, G 644633.8)] [G loss: -79773.9]\n",
      "175 (5, 1) [D loss: (-8448609.0)(R -16436805.0, F 78092.2, G 791010.4)] [G loss: -83350.5]\n",
      "176 (5, 1) [D loss: (-7889983.0)(R -16656856.0, F 81846.6, G 868502.6)] [G loss: -79333.1]\n",
      "177 (5, 1) [D loss: (-8802557.0)(R -16662298.0, F 77135.4, G 778260.6)] [G loss: -80291.6]\n",
      "178 (5, 1) [D loss: (-8270993.0)(R -16175284.0, F 77411.8, G 782687.9)] [G loss: -77089.0]\n",
      "179 (5, 1) [D loss: (-8711502.0)(R -17924888.0, F 83759.8, G 912962.6)] [G loss: -82188.6]\n",
      "180 (5, 1) [D loss: (-8155064.0)(R -16449768.0, F 79213.4, G 821549.1)] [G loss: -78634.7]\n",
      "181 (5, 1) [D loss: (-7884003.0)(R -16301958.0, F 79715.9, G 833823.9)] [G loss: -76932.9]\n",
      "182 (5, 1) [D loss: (-7882497.5)(R -15487376.0, F 75194.2, G 752968.4)] [G loss: -74005.4]\n",
      "183 (5, 1) [D loss: (-8116525.0)(R -16154402.0, F 77233.0, G 796064.4)] [G loss: -78621.6]\n",
      "184 (5, 1) [D loss: (-8257796.0)(R -17072384.0, F 81113.9, G 873347.4)] [G loss: -77195.7]\n",
      "185 (5, 1) [D loss: (-7623450.0)(R -16172636.0, F 79905.8, G 846928.0)] [G loss: -75669.7]\n",
      "186 (5, 1) [D loss: (-6835507.0)(R -15338409.0, F 79798.4, G 842310.4)] [G loss: -67832.3]\n",
      "187 (5, 1) [D loss: (-8376527.0)(R -16409384.0, F 76895.6, G 795596.1)] [G loss: -76243.8]\n",
      "188 (5, 1) [D loss: (-8057743.0)(R -14899311.0, F 70128.9, G 677143.9)] [G loss: -74728.7]\n",
      "189 (5, 1) [D loss: (-7215838.0)(R -15464848.0, F 77844.7, G 817116.5)] [G loss: -68694.2]\n",
      "190 (5, 1) [D loss: (-8541475.0)(R -15779034.0, F 72143.4, G 716541.6)] [G loss: -79192.1]\n",
      "191 (5, 1) [D loss: (-7922198.0)(R -15741157.0, F 75353.2, G 774360.6)] [G loss: -76527.8]\n",
      "192 (5, 1) [D loss: (-7649663.0)(R -15680492.0, F 76195.0, G 795463.4)] [G loss: -70492.0]\n",
      "193 (5, 1) [D loss: (-8457353.0)(R -15560380.0, F 70791.0, G 703223.6)] [G loss: -76558.7]\n",
      "194 (5, 1) [D loss: (-8971827.0)(R -16984032.0, F 75856.8, G 793634.9)] [G loss: -82769.0]\n",
      "195 (5, 1) [D loss: (-7483657.0)(R -16165942.0, F 79240.0, G 860304.5)] [G loss: -71627.9]\n",
      "196 (5, 1) [D loss: (-7958787.5)(R -14370782.0, F 66671.7, G 634532.2)] [G loss: -72353.1]\n",
      "197 (5, 1) [D loss: (-7696166.5)(R -14294355.0, F 67705.9, G 653048.2)] [G loss: -74844.6]\n",
      "198 (5, 1) [D loss: (-8469742.0)(R -16233634.0, F 74034.7, G 768985.8)] [G loss: -80539.9]\n",
      "199 (5, 1) [D loss: (-8307603.0)(R -16317036.0, F 75268.1, G 793416.5)] [G loss: -79881.4]\n",
      "200 (5, 1) [D loss: (-8154805.0)(R -15703873.0, F 72577.7, G 747649.0)] [G loss: -77605.8]\n",
      "201 (5, 1) [D loss: (-8430800.0)(R -17272808.0, F 78936.1, G 876307.2)] [G loss: -79275.3]\n",
      "202 (5, 1) [D loss: (-7791674.0)(R -17825616.0, F 84430.7, G 994951.2)] [G loss: -75492.8]\n",
      "203 (5, 1) [D loss: (-7681310.0)(R -16341132.0, F 77801.1, G 858202.1)] [G loss: -70722.8]\n",
      "204 (5, 1) [D loss: (-7756068.0)(R -16486370.0, F 78031.2, G 865227.1)] [G loss: -71003.6]\n",
      "205 (5, 1) [D loss: (-8344762.0)(R -15048372.0, F 67476.3, G 663613.4)] [G loss: -79033.5]\n",
      "206 (5, 1) [D loss: (-7324263.0)(R -14816428.0, F 71692.1, G 742047.3)] [G loss: -73311.5]\n",
      "207 (5, 1) [D loss: (-7846718.5)(R -14785372.0, F 68365.8, G 687028.8)] [G loss: -72101.3]\n",
      "208 (5, 1) [D loss: (-8086352.0)(R -15711182.0, F 71980.4, G 755285.0)] [G loss: -74096.7]\n",
      "209 (5, 1) [D loss: (-7279845.0)(R -14286500.0, F 68699.3, G 693795.6)] [G loss: -68729.2]\n",
      "210 (5, 1) [D loss: (-7445896.0)(R -16133668.0, F 77108.1, G 861066.4)] [G loss: -70538.4]\n",
      "211 (5, 1) [D loss: (-7471861.0)(R -16027289.0, F 76246.6, G 847918.1)] [G loss: -67171.8]\n",
      "212 (5, 1) [D loss: (-8359157.0)(R -15496712.0, F 68819.5, G 706873.5)] [G loss: -74088.9]\n"
     ]
    },
    {
     "ename": "KeyboardInterrupt",
     "evalue": "",
     "output_type": "error",
     "traceback": [
      "\u001b[0;31m---------------------------------------------------------------------------\u001b[0m",
      "\u001b[0;31mKeyboardInterrupt\u001b[0m                         Traceback (most recent call last)",
      "Input \u001b[0;32mIn [12]\u001b[0m, in \u001b[0;36m<cell line: 1>\u001b[0;34m()\u001b[0m\n\u001b[0;32m----> 1\u001b[0m \u001b[43mgan\u001b[49m\u001b[38;5;241;43m.\u001b[39;49m\u001b[43mtrain\u001b[49m\u001b[43m(\u001b[49m\u001b[43m     \u001b[49m\n\u001b[1;32m      2\u001b[0m \u001b[43m    \u001b[49m\u001b[43mx_train\u001b[49m\n\u001b[1;32m      3\u001b[0m \u001b[43m    \u001b[49m\u001b[43m,\u001b[49m\u001b[43m \u001b[49m\u001b[43mbatch_size\u001b[49m\u001b[43m \u001b[49m\u001b[38;5;241;43m=\u001b[39;49m\u001b[43m \u001b[49m\u001b[43mBATCH_SIZE\u001b[49m\n\u001b[1;32m      4\u001b[0m \u001b[43m    \u001b[49m\u001b[43m,\u001b[49m\u001b[43m \u001b[49m\u001b[43mepochs\u001b[49m\u001b[43m \u001b[49m\u001b[38;5;241;43m=\u001b[39;49m\u001b[43m \u001b[49m\u001b[43mEPOCHS\u001b[49m\n\u001b[1;32m      5\u001b[0m \u001b[43m    \u001b[49m\u001b[43m,\u001b[49m\u001b[43m \u001b[49m\u001b[43mrun_folder\u001b[49m\u001b[43m \u001b[49m\u001b[38;5;241;43m=\u001b[39;49m\u001b[43m \u001b[49m\u001b[43mRUN_FOLDER\u001b[49m\n\u001b[1;32m      6\u001b[0m \u001b[43m    \u001b[49m\u001b[43m,\u001b[49m\u001b[43m \u001b[49m\u001b[43mprint_every_n_batches\u001b[49m\u001b[43m \u001b[49m\u001b[38;5;241;43m=\u001b[39;49m\u001b[43m \u001b[49m\u001b[43mPRINT_EVERY_N_BATCHES\u001b[49m\n\u001b[1;32m      7\u001b[0m \u001b[43m    \u001b[49m\u001b[43m,\u001b[49m\u001b[43m \u001b[49m\u001b[43mn_critic\u001b[49m\u001b[43m \u001b[49m\u001b[38;5;241;43m=\u001b[39;49m\u001b[43m \u001b[49m\u001b[43mN_CRITIC\u001b[49m\n\u001b[1;32m      8\u001b[0m \u001b[43m    \u001b[49m\u001b[43m,\u001b[49m\u001b[43m \u001b[49m\u001b[43musing_generator\u001b[49m\u001b[43m \u001b[49m\u001b[38;5;241;43m=\u001b[39;49m\u001b[43m \u001b[49m\u001b[38;5;28;43;01mFalse\u001b[39;49;00m\n\u001b[1;32m      9\u001b[0m \u001b[43m)\u001b[49m\n",
      "File \u001b[0;32m~/Projects/Pappa/ML/models/WGANGP.py:348\u001b[0m, in \u001b[0;36mWGANGP.train\u001b[0;34m(self, x_train, batch_size, epochs, run_folder, print_every_n_batches, n_critic, using_generator)\u001b[0m\n\u001b[1;32m    345\u001b[0m     critic_loops \u001b[38;5;241m=\u001b[39m n_critic\n\u001b[1;32m    347\u001b[0m \u001b[38;5;28;01mfor\u001b[39;00m _ \u001b[38;5;129;01min\u001b[39;00m \u001b[38;5;28mrange\u001b[39m(critic_loops):\n\u001b[0;32m--> 348\u001b[0m     d_loss \u001b[38;5;241m=\u001b[39m \u001b[38;5;28;43mself\u001b[39;49m\u001b[38;5;241;43m.\u001b[39;49m\u001b[43mtrain_critic\u001b[49m\u001b[43m(\u001b[49m\u001b[43mx_train\u001b[49m\u001b[43m,\u001b[49m\u001b[43m \u001b[49m\u001b[43mbatch_size\u001b[49m\u001b[43m,\u001b[49m\u001b[43m \u001b[49m\u001b[43musing_generator\u001b[49m\u001b[43m)\u001b[49m\n\u001b[1;32m    350\u001b[0m g_loss \u001b[38;5;241m=\u001b[39m \u001b[38;5;28mself\u001b[39m\u001b[38;5;241m.\u001b[39mtrain_generator(batch_size)\n\u001b[1;32m    353\u001b[0m \u001b[38;5;28mprint\u001b[39m (\u001b[38;5;124m\"\u001b[39m\u001b[38;5;132;01m%d\u001b[39;00m\u001b[38;5;124m (\u001b[39m\u001b[38;5;132;01m%d\u001b[39;00m\u001b[38;5;124m, \u001b[39m\u001b[38;5;132;01m%d\u001b[39;00m\u001b[38;5;124m) [D loss: (\u001b[39m\u001b[38;5;132;01m%.1f\u001b[39;00m\u001b[38;5;124m)(R \u001b[39m\u001b[38;5;132;01m%.1f\u001b[39;00m\u001b[38;5;124m, F \u001b[39m\u001b[38;5;132;01m%.1f\u001b[39;00m\u001b[38;5;124m, G \u001b[39m\u001b[38;5;132;01m%.1f\u001b[39;00m\u001b[38;5;124m)] [G loss: \u001b[39m\u001b[38;5;132;01m%.1f\u001b[39;00m\u001b[38;5;124m]\u001b[39m\u001b[38;5;124m\"\u001b[39m \u001b[38;5;241m%\u001b[39m (epoch, critic_loops, \u001b[38;5;241m1\u001b[39m, d_loss[\u001b[38;5;241m0\u001b[39m], d_loss[\u001b[38;5;241m1\u001b[39m],d_loss[\u001b[38;5;241m2\u001b[39m],d_loss[\u001b[38;5;241m3\u001b[39m],g_loss))\n",
      "File \u001b[0;32m~/Projects/Pappa/ML/models/WGANGP.py:327\u001b[0m, in \u001b[0;36mWGANGP.train_critic\u001b[0;34m(self, x_train, batch_size, using_generator)\u001b[0m\n\u001b[1;32m    323\u001b[0m     true_imgs \u001b[38;5;241m=\u001b[39m x_train[idx]\n\u001b[1;32m    325\u001b[0m noise \u001b[38;5;241m=\u001b[39m np\u001b[38;5;241m.\u001b[39mrandom\u001b[38;5;241m.\u001b[39mnormal(\u001b[38;5;241m0\u001b[39m, \u001b[38;5;241m1\u001b[39m, (batch_size, \u001b[38;5;28mself\u001b[39m\u001b[38;5;241m.\u001b[39mz_dim))\n\u001b[0;32m--> 327\u001b[0m d_loss \u001b[38;5;241m=\u001b[39m \u001b[38;5;28;43mself\u001b[39;49m\u001b[38;5;241;43m.\u001b[39;49m\u001b[43mcritic_model\u001b[49m\u001b[38;5;241;43m.\u001b[39;49m\u001b[43mtrain_on_batch\u001b[49m\u001b[43m(\u001b[49m\u001b[43m[\u001b[49m\u001b[43mtrue_imgs\u001b[49m\u001b[43m,\u001b[49m\u001b[43m \u001b[49m\u001b[43mnoise\u001b[49m\u001b[43m]\u001b[49m\u001b[43m,\u001b[49m\u001b[43m \u001b[49m\u001b[43m[\u001b[49m\u001b[43mvalid\u001b[49m\u001b[43m,\u001b[49m\u001b[43m \u001b[49m\u001b[43mfake\u001b[49m\u001b[43m,\u001b[49m\u001b[43m \u001b[49m\u001b[43mdummy\u001b[49m\u001b[43m]\u001b[49m\u001b[43m)\u001b[49m\n\u001b[1;32m    328\u001b[0m \u001b[38;5;28;01mreturn\u001b[39;00m d_loss\n",
      "File \u001b[0;32m~/anaconda3/lib/python3.8/site-packages/tensorflow/python/keras/engine/training_v1.py:1063\u001b[0m, in \u001b[0;36mModel.train_on_batch\u001b[0;34m(self, x, y, sample_weight, class_weight, reset_metrics)\u001b[0m\n\u001b[1;32m   1061\u001b[0m   \u001b[38;5;28mself\u001b[39m\u001b[38;5;241m.\u001b[39m_update_sample_weight_modes(sample_weights\u001b[38;5;241m=\u001b[39msample_weights)\n\u001b[1;32m   1062\u001b[0m   \u001b[38;5;28mself\u001b[39m\u001b[38;5;241m.\u001b[39m_make_train_function()\n\u001b[0;32m-> 1063\u001b[0m   outputs \u001b[38;5;241m=\u001b[39m \u001b[38;5;28;43mself\u001b[39;49m\u001b[38;5;241;43m.\u001b[39;49m\u001b[43mtrain_function\u001b[49m\u001b[43m(\u001b[49m\u001b[43mins\u001b[49m\u001b[43m)\u001b[49m  \u001b[38;5;66;03m# pylint: disable=not-callable\u001b[39;00m\n\u001b[1;32m   1065\u001b[0m \u001b[38;5;28;01mif\u001b[39;00m reset_metrics:\n\u001b[1;32m   1066\u001b[0m   \u001b[38;5;28mself\u001b[39m\u001b[38;5;241m.\u001b[39mreset_metrics()\n",
      "File \u001b[0;32m~/anaconda3/lib/python3.8/site-packages/tensorflow/python/keras/backend.py:3631\u001b[0m, in \u001b[0;36mGraphExecutionFunction.__call__\u001b[0;34m(self, inputs)\u001b[0m\n\u001b[1;32m   3625\u001b[0m \u001b[38;5;28;01mif\u001b[39;00m (\u001b[38;5;28mself\u001b[39m\u001b[38;5;241m.\u001b[39m_callable_fn \u001b[38;5;129;01mis\u001b[39;00m \u001b[38;5;28;01mNone\u001b[39;00m \u001b[38;5;129;01mor\u001b[39;00m feed_arrays \u001b[38;5;241m!=\u001b[39m \u001b[38;5;28mself\u001b[39m\u001b[38;5;241m.\u001b[39m_feed_arrays \u001b[38;5;129;01mor\u001b[39;00m\n\u001b[1;32m   3626\u001b[0m     symbol_vals \u001b[38;5;241m!=\u001b[39m \u001b[38;5;28mself\u001b[39m\u001b[38;5;241m.\u001b[39m_symbol_vals \u001b[38;5;129;01mor\u001b[39;00m\n\u001b[1;32m   3627\u001b[0m     feed_symbols \u001b[38;5;241m!=\u001b[39m \u001b[38;5;28mself\u001b[39m\u001b[38;5;241m.\u001b[39m_feed_symbols \u001b[38;5;129;01mor\u001b[39;00m \u001b[38;5;28mself\u001b[39m\u001b[38;5;241m.\u001b[39mfetches \u001b[38;5;241m!=\u001b[39m \u001b[38;5;28mself\u001b[39m\u001b[38;5;241m.\u001b[39m_fetches \u001b[38;5;129;01mor\u001b[39;00m\n\u001b[1;32m   3628\u001b[0m     session \u001b[38;5;241m!=\u001b[39m \u001b[38;5;28mself\u001b[39m\u001b[38;5;241m.\u001b[39m_session):\n\u001b[1;32m   3629\u001b[0m   \u001b[38;5;28mself\u001b[39m\u001b[38;5;241m.\u001b[39m_make_callable(feed_arrays, feed_symbols, symbol_vals, session)\n\u001b[0;32m-> 3631\u001b[0m fetched \u001b[38;5;241m=\u001b[39m \u001b[38;5;28;43mself\u001b[39;49m\u001b[38;5;241;43m.\u001b[39;49m\u001b[43m_callable_fn\u001b[49m\u001b[43m(\u001b[49m\u001b[38;5;241;43m*\u001b[39;49m\u001b[43marray_vals\u001b[49m\u001b[43m,\u001b[49m\n\u001b[1;32m   3632\u001b[0m \u001b[43m                            \u001b[49m\u001b[43mrun_metadata\u001b[49m\u001b[38;5;241;43m=\u001b[39;49m\u001b[38;5;28;43mself\u001b[39;49m\u001b[38;5;241;43m.\u001b[39;49m\u001b[43mrun_metadata\u001b[49m\u001b[43m)\u001b[49m\n\u001b[1;32m   3633\u001b[0m \u001b[38;5;28mself\u001b[39m\u001b[38;5;241m.\u001b[39m_call_fetch_callbacks(fetched[\u001b[38;5;241m-\u001b[39m\u001b[38;5;28mlen\u001b[39m(\u001b[38;5;28mself\u001b[39m\u001b[38;5;241m.\u001b[39m_fetches):])\n\u001b[1;32m   3634\u001b[0m output_structure \u001b[38;5;241m=\u001b[39m nest\u001b[38;5;241m.\u001b[39mpack_sequence_as(\n\u001b[1;32m   3635\u001b[0m     \u001b[38;5;28mself\u001b[39m\u001b[38;5;241m.\u001b[39m_outputs_structure,\n\u001b[1;32m   3636\u001b[0m     fetched[:\u001b[38;5;28mlen\u001b[39m(\u001b[38;5;28mself\u001b[39m\u001b[38;5;241m.\u001b[39moutputs)],\n\u001b[1;32m   3637\u001b[0m     expand_composites\u001b[38;5;241m=\u001b[39m\u001b[38;5;28;01mTrue\u001b[39;00m)\n",
      "File \u001b[0;32m~/anaconda3/lib/python3.8/site-packages/tensorflow/python/client/session.py:1470\u001b[0m, in \u001b[0;36mBaseSession._Callable.__call__\u001b[0;34m(self, *args, **kwargs)\u001b[0m\n\u001b[1;32m   1468\u001b[0m \u001b[38;5;28;01mtry\u001b[39;00m:\n\u001b[1;32m   1469\u001b[0m   run_metadata_ptr \u001b[38;5;241m=\u001b[39m tf_session\u001b[38;5;241m.\u001b[39mTF_NewBuffer() \u001b[38;5;28;01mif\u001b[39;00m run_metadata \u001b[38;5;28;01melse\u001b[39;00m \u001b[38;5;28;01mNone\u001b[39;00m\n\u001b[0;32m-> 1470\u001b[0m   ret \u001b[38;5;241m=\u001b[39m \u001b[43mtf_session\u001b[49m\u001b[38;5;241;43m.\u001b[39;49m\u001b[43mTF_SessionRunCallable\u001b[49m\u001b[43m(\u001b[49m\u001b[38;5;28;43mself\u001b[39;49m\u001b[38;5;241;43m.\u001b[39;49m\u001b[43m_session\u001b[49m\u001b[38;5;241;43m.\u001b[39;49m\u001b[43m_session\u001b[49m\u001b[43m,\u001b[49m\n\u001b[1;32m   1471\u001b[0m \u001b[43m                                         \u001b[49m\u001b[38;5;28;43mself\u001b[39;49m\u001b[38;5;241;43m.\u001b[39;49m\u001b[43m_handle\u001b[49m\u001b[43m,\u001b[49m\u001b[43m \u001b[49m\u001b[43margs\u001b[49m\u001b[43m,\u001b[49m\n\u001b[1;32m   1472\u001b[0m \u001b[43m                                         \u001b[49m\u001b[43mrun_metadata_ptr\u001b[49m\u001b[43m)\u001b[49m\n\u001b[1;32m   1473\u001b[0m   \u001b[38;5;28;01mif\u001b[39;00m run_metadata:\n\u001b[1;32m   1474\u001b[0m     proto_data \u001b[38;5;241m=\u001b[39m tf_session\u001b[38;5;241m.\u001b[39mTF_GetBuffer(run_metadata_ptr)\n",
      "\u001b[0;31mKeyboardInterrupt\u001b[0m: "
     ]
    }
   ],
   "source": [
    "gan.train(     \n",
    "    x_train\n",
    "    , batch_size = BATCH_SIZE\n",
    "    , epochs = EPOCHS\n",
    "    , run_folder = RUN_FOLDER\n",
    "    , print_every_n_batches = PRINT_EVERY_N_BATCHES\n",
    "    , n_critic = N_CRITIC\n",
    "    , using_generator = False\n",
    ")"
   ]
  },
  {
   "cell_type": "code",
   "execution_count": null,
   "metadata": {},
   "outputs": [],
   "source": [
    "fig = plt.figure()\n",
    "plt.plot([x[0] for x in gan.d_losses], color='black', linewidth=0.25)\n",
    "\n",
    "plt.plot([x[1] for x in gan.d_losses], color='green', linewidth=0.25)\n",
    "plt.plot([x[2] for x in gan.d_losses], color='red', linewidth=0.25)\n",
    "plt.plot(gan.g_losses, color='orange', linewidth=0.25)\n",
    "\n",
    "plt.xlabel('batch', fontsize=18)\n",
    "plt.ylabel('loss', fontsize=16)\n",
    "\n",
    "plt.xlim(0, 2000)\n",
    "# plt.ylim(0, 2)\n",
    "\n",
    "plt.show()\n"
   ]
  }
 ],
 "metadata": {
  "kernelspec": {
   "display_name": "Python 3 (ipykernel)",
   "language": "python",
   "name": "python3"
  },
  "language_info": {
   "codemirror_mode": {
    "name": "ipython",
    "version": 3
   },
   "file_extension": ".py",
   "mimetype": "text/x-python",
   "name": "python",
   "nbconvert_exporter": "python",
   "pygments_lexer": "ipython3",
   "version": "3.8.10"
  }
 },
 "nbformat": 4,
 "nbformat_minor": 4
}
