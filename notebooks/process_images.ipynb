{
 "cells": [
  {
   "cell_type": "code",
   "execution_count": 1,
   "id": "165d91f8-248c-49f2-bb51-50e12c6a2994",
   "metadata": {},
   "outputs": [],
   "source": [
    "import os\n",
    "import glob\n",
    "IMG_DIR = \"../images/rothko/raw/\""
   ]
  },
  {
   "cell_type": "code",
   "execution_count": 11,
   "id": "c4791f12-7b67-4530-81ee-c9590cc7c706",
   "metadata": {},
   "outputs": [
    {
     "name": "stdout",
     "output_type": "stream",
     "text": [
      "001 ../images/rothko/raw/001.jpg\n",
      "002 ../images/rothko/raw/002.jpg\n",
      "003 ../images/rothko/raw/003.jpg\n",
      "004 ../images/rothko/raw/004.jpg\n",
      "005 ../images/rothko/raw/005.jpg\n",
      "006 ../images/rothko/raw/006.jpg\n",
      "007 ../images/rothko/raw/007.jpg\n",
      "008 ../images/rothko/raw/008.jpg\n",
      "009 ../images/rothko/raw/009.jpg\n",
      "010 ../images/rothko/raw/010.jpg\n",
      "011 ../images/rothko/raw/011.jpg\n",
      "012 ../images/rothko/raw/012.jpg\n",
      "013 ../images/rothko/raw/013.jpg\n",
      "014 ../images/rothko/raw/014.jpg\n",
      "015 ../images/rothko/raw/015.jpg\n",
      "016 ../images/rothko/raw/016.jpg\n",
      "017 ../images/rothko/raw/017.jpg\n",
      "018 ../images/rothko/raw/018.jpg\n",
      "019 ../images/rothko/raw/019.jpg\n",
      "020 ../images/rothko/raw/020.jpg\n",
      "021 ../images/rothko/raw/021.jpg\n",
      "022 ../images/rothko/raw/022.jpg\n",
      "023 ../images/rothko/raw/023.jpg\n",
      "024 ../images/rothko/raw/024.jpg\n",
      "025 ../images/rothko/raw/025.jpg\n",
      "026 ../images/rothko/raw/026.jpg\n",
      "027 ../images/rothko/raw/027.jpg\n",
      "028 ../images/rothko/raw/028.jpg\n",
      "029 ../images/rothko/raw/029.jpg\n",
      "030 ../images/rothko/raw/030.jpg\n",
      "031 ../images/rothko/raw/031.jpg\n",
      "032 ../images/rothko/raw/032.jpg\n",
      "033 ../images/rothko/raw/033.jpg\n",
      "034 ../images/rothko/raw/034.jpg\n",
      "035 ../images/rothko/raw/035.jpg\n",
      "036 ../images/rothko/raw/036.jpg\n",
      "037 ../images/rothko/raw/037.jpg\n",
      "038 ../images/rothko/raw/038.jpg\n",
      "039 ../images/rothko/raw/039.jpg\n",
      "040 ../images/rothko/raw/040.jpg\n",
      "041 ../images/rothko/raw/041.jpg\n",
      "042 ../images/rothko/raw/042.jpg\n",
      "043 ../images/rothko/raw/043.jpg\n",
      "044 ../images/rothko/raw/044.jpg\n",
      "045 ../images/rothko/raw/045.jpg\n",
      "046 ../images/rothko/raw/046.jpg\n",
      "047 ../images/rothko/raw/047.jpg\n",
      "048 ../images/rothko/raw/048.jpg\n",
      "049 ../images/rothko/raw/049.jpg\n",
      "050 ../images/rothko/raw/050.jpg\n",
      "051 ../images/rothko/raw/051.jpg\n",
      "052 ../images/rothko/raw/052.jpg\n",
      "053 ../images/rothko/raw/053.jpg\n",
      "054 ../images/rothko/raw/054.jpg\n",
      "055 ../images/rothko/raw/055.jpg\n",
      "056 ../images/rothko/raw/056.jpg\n",
      "057 ../images/rothko/raw/057.jpg\n",
      "058 ../images/rothko/raw/058.jpg\n",
      "059 ../images/rothko/raw/059.jpg\n"
     ]
    }
   ],
   "source": [
    "files = glob.glob(IMG_DIR + \"*.jpg\")\n",
    "                  \n",
    "for idx, file in enumerate(sorted(files)):\n",
    "    n = str(idx + 1).zfill(3)\n",
    "    print(n, file)\n",
    "    #os.rename(file, IMG_DIR + n + \".jpg\")"
   ]
  }
 ],
 "metadata": {
  "kernelspec": {
   "display_name": "Python 3 (ipykernel)",
   "language": "python",
   "name": "python3"
  },
  "language_info": {
   "codemirror_mode": {
    "name": "ipython",
    "version": 3
   },
   "file_extension": ".py",
   "mimetype": "text/x-python",
   "name": "python",
   "nbconvert_exporter": "python",
   "pygments_lexer": "ipython3",
   "version": "3.8.10"
  }
 },
 "nbformat": 4,
 "nbformat_minor": 5
}
