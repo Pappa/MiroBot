{
 "cells": [
  {
   "cell_type": "code",
   "execution_count": null,
   "id": "073d9d0c-cad0-4485-bc64-10b1d588366e",
   "metadata": {},
   "outputs": [],
   "source": [
    "import tensorflow as tf\n",
    "\n",
    "with tf.device('/gpu:0'):\n",
    "    print(tf.config.list_physical_devices())\n",
    "    gpu = tf.config.list_physical_devices(\"GPU\")\n",
    "    if not gpu:\n",
    "        raise"
   ]
  }
 ],
 "metadata": {
  "kernelspec": {
   "display_name": "Python 3 (ipykernel)",
   "language": "python",
   "name": "python3"
  },
  "language_info": {
   "codemirror_mode": {
    "name": "ipython",
    "version": 3
   },
   "file_extension": ".py",
   "mimetype": "text/x-python",
   "name": "python",
   "nbconvert_exporter": "python",
   "pygments_lexer": "ipython3",
   "version": "3.8.10"
  }
 },
 "nbformat": 4,
 "nbformat_minor": 5
}
